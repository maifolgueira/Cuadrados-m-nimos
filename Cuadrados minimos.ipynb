# -*- coding: utf-8 -*-
"""
Created on Mon Jun 14 12:55:03 2021

@author: Mailen
"""

import numpy as np
import numpy.linalg as npl
import pandas as pd
import matplotlib.pyplot as plt


# A

def matriz_A(x,m,tipo):
    nx = len(x)
    A = np.zeros((nx,m))
    if tipo=='polinomial':
        for i in range(nx):
            for j in range(m):
                A[i][j] = x[i]**j
    elif tipo=='senoidal':
        for i in range(nx):
            for j in range(m):
                A[i][j] = np.sin((j+1)*x[i])
    return(A)


print(matriz_A(np.array([0,2]), 3, "polinomial"))
print(matriz_A(np.array([0,2]), 3, "senoidal"))


#%%

# B

def cuadrados_minimos(x,y,m,tipo):
    A = matriz_A(x,m,tipo)
    B = np.dot(np.transpose(A),A)
    c = np.dot(npl.inv(B) , np.dot((np.transpose(A)),y))
    return(c)



print(cuadrados_minimos(np.array([0,1,2]), np.array([0,1,4]), 3, "polinomial"))



#%%

#C

def genera_ajustador(c,tipo):
    if tipo == "polinomial":
       def function(s):
            A = 0
            for j in range(len(c)):
                A += c[j]* s**j
            return (A)
    elif tipo== "senoidal":
        def function(s):
            A=0
            for j in range(len(c)):
                A += c[j]*np.sin((j+1)*s)
            return(A)
    return(function)


#%%

#D

datos_x = np.linspace(-np.pi/2 , np.pi/2 , 10)
datos_y = [1.19,0.84,0.825,0.56,0.376,-0.186,-0.663,-0.682,-0.801,-0.996]
poli_coef = cuadrados_minimos(datos_x,datos_y,2,"polinomial")
sen_coef = cuadrados_minimos(datos_x,datos_y,2,"senoidal")

poli_fun = genera_ajustador(poli_coef, "polinomial")
sen_fun = genera_ajustador(sen_coef, "senoidal")

X = np.linspace(-np.pi/2, np.pi/2, 1000)


plt.scatter(datos_x, datos_y)
plt.plot(X, poli_fun(X), label='Ajuste polinomial')
plt.plot(X, sen_fun(X), label='Ajuste senoidal')
plt.legend()
plt.savefig('ajuste_tabla.png')

# Puede observarse en el gráfico obtenido que el modelo senoidal aproxima mejor

#%%

# E

datos = pd.read_csv('datos_google.csv')
X = np.array(datos['dia'])
Y = np.array(datos['precio de cierre'])

ms = [2, 4, 6, 8]
x_aju = np.linspace(np.min(X), np.max(X), 500)
plt.clf()
plt.plot(X, Y, 'o', ms=1) # Ploteamos los datos
for m in ms: # Para cada m hallamos el polinomio y lo graficamos
    coefs = cuadrados_minimos(X,Y,m,"polinomial")
    poli_fun = genera_ajustador(coefs, 'polinomial')
    plt.plot(x_aju, poli_fun(x_aju), label='m=' + str(m))
plt.legend()
plt.savefig('ajustes_datos.png')    
    
# m=6 pareciera representar mejor los datos
